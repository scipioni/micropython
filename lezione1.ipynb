{
 "cells": [
  {
   "cell_type": "code",
   "execution_count": 1,
   "metadata": {},
   "outputs": [
    {
     "name": "stdout",
     "output_type": "stream",
     "text": [
      "1\n"
     ]
    }
   ],
   "source": [
    "a = 1\n",
    "print(a)"
   ]
  },
  {
   "cell_type": "code",
   "execution_count": 2,
   "metadata": {},
   "outputs": [
    {
     "name": "stdout",
     "output_type": "stream",
     "text": [
      "daniele\n"
     ]
    }
   ],
   "source": [
    "nome = \"daniele\"\n",
    "print(nome)"
   ]
  },
  {
   "cell_type": "code",
   "execution_count": 3,
   "metadata": {},
   "outputs": [
    {
     "name": "stdout",
     "output_type": "stream",
     "text": [
      "35\n"
     ]
    }
   ],
   "source": [
    "a = 5\n",
    "b = 7\n",
    "c = a * b\n",
    "print(c)"
   ]
  },
  {
   "cell_type": "code",
   "execution_count": 4,
   "metadata": {},
   "outputs": [
    {
     "name": "stdout",
     "output_type": "stream",
     "text": [
      "i adesso vale 0\n",
      "i adesso vale 1\n",
      "i adesso vale 2\n",
      "i adesso vale 3\n",
      "i adesso vale 4\n"
     ]
    }
   ],
   "source": [
    "for i in range(5):\n",
    "    print(\"i adesso vale\", i)"
   ]
  },
  {
   "cell_type": "code",
   "execution_count": 5,
   "metadata": {},
   "outputs": [
    {
     "name": "stdout",
     "output_type": "stream",
     "text": [
      "d 100\n",
      "a 97\n",
      "n 110\n",
      "i 105\n",
      "e 101\n",
      "l 108\n",
      "e 101\n"
     ]
    }
   ],
   "source": [
    "for c in \"daniele\":\n",
    "    print(c, ord(c))"
   ]
  },
  {
   "cell_type": "code",
   "execution_count": 6,
   "metadata": {},
   "outputs": [
    {
     "name": "stdout",
     "output_type": "stream",
     "text": [
      "la somma dei caratteri di daniele è uguale a 722\n"
     ]
    }
   ],
   "source": [
    "totale = 0\n",
    "nome = \"daniele\"\n",
    "for c in nome:\n",
    "    totale = totale + ord(c)\n",
    "print(\"la somma dei caratteri di\", nome, \"è uguale a\", totale)"
   ]
  },
  {
   "cell_type": "code",
   "execution_count": null,
   "metadata": {},
   "outputs": [],
   "source": []
  }
 ],
 "metadata": {
  "kernelspec": {
   "display_name": "Python 3",
   "language": "python",
   "name": "python3"
  },
  "language_info": {
   "codemirror_mode": {
    "name": "ipython",
    "version": 3
   },
   "file_extension": ".py",
   "mimetype": "text/x-python",
   "name": "python",
   "nbconvert_exporter": "python",
   "pygments_lexer": "ipython3",
   "version": "3.6.3"
  }
 },
 "nbformat": 4,
 "nbformat_minor": 2
}
