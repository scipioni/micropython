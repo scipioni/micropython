{
 "cells": [
  {
   "cell_type": "code",
   "execution_count": 1,
   "metadata": {},
   "outputs": [
    {
     "name": "stdout",
     "output_type": "stream",
     "text": [
      "\u001b[34mConnecting to Serial /dev/ttyUSB0 baud=115200 \u001b[0m\n",
      "\u001b[34mReady.\n",
      "\u001b[0m"
     ]
    }
   ],
   "source": [
    "%serialconnect"
   ]
  },
  {
   "cell_type": "code",
   "execution_count": 2,
   "metadata": {},
   "outputs": [],
   "source": [
    "from machine import Pin\n",
    "from time import sleep\n",
    "\n",
    "# GPIO16 (D0) is the internal LED for NodeMCU\n",
    "led = Pin(16, Pin.OUT)"
   ]
  },
  {
   "cell_type": "code",
   "execution_count": 3,
   "metadata": {},
   "outputs": [],
   "source": [
    "for i in range(10):\n",
    "    led.value(not led.value())\n",
    "    sleep(0.1)\n"
   ]
  },
  {
   "cell_type": "code",
   "execution_count": 4,
   "metadata": {},
   "outputs": [],
   "source": [
    "TOKEN=\"341350121:AAF8fpXpS-LZlKgMHj1R1PJLLde60ylT7Mc\"\n",
    "CHATID=\"73496590\"\n",
    "URL=\"https://api.telegram.org/bot{}/sendMessage\"\n"
   ]
  },
  {
   "cell_type": "code",
   "execution_count": 5,
   "metadata": {},
   "outputs": [],
   "source": [
    "import urequests"
   ]
  },
  {
   "cell_type": "code",
   "execution_count": 10,
   "metadata": {},
   "outputs": [
    {
     "name": "stdout",
     "output_type": "stream",
     "text": [
      "{'description': 'Bad Request: message text is empty', 'ok': False, 'error_code': 400}\r\n"
     ]
    }
   ],
   "source": [
    "print(urequests.post(\"https://api.telegram.org/bot\" + TOKEN + \"/sendMessage\", json={'chat_id': CHATID, 'text':'OK'}).json())"
   ]
  },
  {
   "cell_type": "code",
   "execution_count": 11,
   "metadata": {},
   "outputs": [
    {
     "name": "stderr",
     "output_type": "stream",
     "text": [
      "Traceback (most recent call last):\n",
      "  File \"<stdin>\", line 1, in <module>\n",
      "  File \"urequests.py\", line 111, in post\n",
      "  File \"urequests.py\", line 96, in request\n",
      "  File \"urequests.py\", line 81, in request\n",
      "ValueError: need more than 1 values to unpack\n"
     ]
    }
   ],
   "source": [
    "print(urequests.post(\"http://192.168.2.19:1234/bot\" + TOKEN + \"/sendMessage\", json={'chat_id': CHATID, 'text':'OK'}).json())"
   ]
  },
  {
   "cell_type": "code",
   "execution_count": 8,
   "metadata": {},
   "outputs": [],
   "source": [
    "from ntptime import settime"
   ]
  },
  {
   "cell_type": "code",
   "execution_count": 9,
   "metadata": {},
   "outputs": [
    {
     "name": "stdout",
     "output_type": "stream",
     "text": [
      "(2018, 1, 21, 15, 53, 55, 6, 21)\r\n"
     ]
    }
   ],
   "source": [
    "settime()"
   ]
  },
  {
   "cell_type": "code",
   "execution_count": null,
   "metadata": {},
   "outputs": [],
   "source": []
  }
 ],
 "metadata": {
  "kernelspec": {
   "display_name": "MicroPython - USB",
   "language": "micropython",
   "name": "micropython"
  },
  "language_info": {
   "codemirror_mode": "python",
   "file_extension": ".py",
   "mimetype": "text/python",
   "name": "micropython"
  }
 },
 "nbformat": 4,
 "nbformat_minor": 2
}
